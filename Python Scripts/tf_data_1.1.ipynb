{
 "cells": [
  {
   "cell_type": "markdown",
   "id": "ad45b8d0",
   "metadata": {},
   "source": [
    "# Project, Parts 2 and 3, Attempt 1\n",
    "# Rohan Krishnamurthi\n",
    "# 10/27/2024"
   ]
  },
  {
   "cell_type": "code",
   "execution_count": 42,
   "id": "fd0dd209",
   "metadata": {},
   "outputs": [],
   "source": [
    "#import os\n",
    "#from os import path\n",
    "#import sys\n",
    "#import shutil\n",
    "#import subprocess\n",
    "\n",
    "#bin_dir = path.dirname(sys.executable)\n",
    "#os.environ['PATH'] += os.pathsep + bin_dir\n",
    "#shutil.which('bedtools')\n",
    "#subprocess.run(['bedtools', '--help'])\n"
   ]
  },
  {
   "cell_type": "code",
   "execution_count": 1,
   "id": "f9500fd5",
   "metadata": {},
   "outputs": [],
   "source": [
    "# Load Packages\n",
    "import pybedtools\n",
    "import os\n",
    "#from pybedtools import BedTool\n",
    "import pandas as pd\n"
   ]
  },
  {
   "cell_type": "code",
   "execution_count": 54,
   "id": "5672a76c",
   "metadata": {},
   "outputs": [],
   "source": [
    "pybedtools.set_bedtools_path(\"/opt/homebrew/bin/bedtools\")"
   ]
  },
  {
   "cell_type": "code",
   "execution_count": 3,
   "id": "3abfc600",
   "metadata": {},
   "outputs": [],
   "source": [
    "os.environ['PATH'] += ':/opt/homebrew/bin/bedtools'"
   ]
  },
  {
   "cell_type": "code",
   "execution_count": 4,
   "id": "0f7f7957",
   "metadata": {},
   "outputs": [
    {
     "name": "stdout",
     "output_type": "stream",
     "text": [
      "/opt/homebrew/bin:/opt/homebrew/sbin:/Users/rohankrishnamurthi/anaconda3/bin:/Users/rohankrishnamurthi/anaconda3/condabin:/usr/local/bin:/System/Cryptexes/App/usr/bin:/usr/bin:/bin:/usr/sbin:/sbin:/var/run/com.apple.security.cryptexd/codex.system/bootstrap/usr/local/bin:/var/run/com.apple.security.cryptexd/codex.system/bootstrap/usr/bin:/var/run/com.apple.security.cryptexd/codex.system/bootstrap/usr/appleinternal/bin:/Library/TeX/texbin:/Applications/quarto/bin:/opt/homebrew/bin/bedtools\n"
     ]
    }
   ],
   "source": [
    "print(os.environ['PATH'])"
   ]
  },
  {
   "cell_type": "code",
   "execution_count": 43,
   "id": "a72c5be6",
   "metadata": {},
   "outputs": [],
   "source": [
    "import pybedtools\n",
    "pybedtools.helpers.set_bedtools_path('/opt/homebrew/bin/bedtools')"
   ]
  },
  {
   "cell_type": "code",
   "execution_count": 5,
   "id": "db3afb72",
   "metadata": {},
   "outputs": [],
   "source": [
    "# Set working directory\n",
    "os.chdir(\"/Users/rohankrishnamurthi/Downloads/Maalavika_Pillai_Research/Histone Mark Analysis Project\")"
   ]
  },
  {
   "cell_type": "code",
   "execution_count": 6,
   "id": "c35ece92",
   "metadata": {},
   "outputs": [],
   "source": [
    "# Set list of cell lines\n",
    "lines = [\"A549\", \"HepG2\", \"K562\", \"GM12878\", \"MCF-7\"]"
   ]
  },
  {
   "cell_type": "code",
   "execution_count": 7,
   "id": "559f5305",
   "metadata": {},
   "outputs": [],
   "source": [
    "# Define function to get list of files from a folder\n",
    "def list_files(folder):\n",
    "    files = []\n",
    "    for entry in os.listdir(folder):\n",
    "        if os.path.isfile(os.path.join(folder, entry)):\n",
    "            files.append(entry)\n",
    "    return files"
   ]
  },
  {
   "cell_type": "code",
   "execution_count": 11,
   "id": "832fff71",
   "metadata": {},
   "outputs": [],
   "source": [
    "# For loop system\n",
    "for line in lines: #iterate through all cell line folders\n",
    "    folder = f\"tf_ChIP_data/{line}\"\n",
    "    files = list_files(folder) #collect list of bed files within each cell line\n",
    "    for file in files:\n",
    "        TF = file[:file.find(\"_\")] #extract the TF string\n",
    "        csv_path = f\"tf_ChIP_data/filtered_files/{line}_{TF}_filtered.csv\"\n",
    "        bed_path_1 = f\"tf_ChIP_data/filtered_files/{line}_{TF}_filtered.bed\"\n",
    "        bed_path_2 = f\"tf_ChIP_data/processed_ChIP/{line}_{TF}_accessible_processed.bed\" #save path\n",
    "        \n",
    "        full_file = folder + \"/\" + file\n",
    "        df = pd.read_csv(full_file, sep='\\t')\n",
    "        df_filtered = df[df[\"num\"] >= 2] #must contain 2+ files\n",
    "        df_filtered = df_filtered[df_filtered[\"../ATAC-seq/consensuspeaks_all_targets_10kb_sorted.bed\"] == 1] # must contain last file      \n",
    "        df_filtered.to_csv(csv_path, index = False)\n",
    "        \n",
    "        df_filtered.to_csv(bed_path_1, sep='\\t', index=False, header=False) # save as bedfile\n",
    "        \n",
    "        bf = pybedtools.BedTool(bed_path_1) # convert filtered file to a usable bedfile\n",
    "        bf_merged = bf.merge() #MERGE OPERATION\n",
    "        \n",
    "        bf_merged.saveas(bed_path_2) #save merged result\n",
    "        "
   ]
  },
  {
   "cell_type": "code",
   "execution_count": 53,
   "id": "bde8bbc6",
   "metadata": {},
   "outputs": [],
   "source": [
    "# Pybedtools stuff\n",
    "\n",
    "\n",
    "import pybedtools\n",
    "from pybedtools import bedtool\n",
    "from pybedtools import settings\n",
    "from importlib import reload\n",
    "\n",
    "\n",
    "def _set_bedtools_path(path=\"\"):\n",
    "    old_path = settings._bedtools_path\n",
    "    settings._bedtools_path = path\n",
    "    if old_path != path:\n",
    "        reload(bedtool)\n",
    "        reload(pybedtools)\n",
    "        return True\n",
    "\n",
    "\n",
    "def _get_bedtools_path():\n",
    "    return settings._bedtools_path\n",
    "\n",
    "\n",
    "def _set_R_path(path=\"\"):\n",
    "    settings._R_path = path\n",
    "    "
   ]
  }
 ],
 "metadata": {
  "kernelspec": {
   "display_name": "Python 3 (ipykernel)",
   "language": "python",
   "name": "python3"
  },
  "language_info": {
   "codemirror_mode": {
    "name": "ipython",
    "version": 3
   },
   "file_extension": ".py",
   "mimetype": "text/x-python",
   "name": "python",
   "nbconvert_exporter": "python",
   "pygments_lexer": "ipython3",
   "version": "3.11.5"
  }
 },
 "nbformat": 4,
 "nbformat_minor": 5
}
